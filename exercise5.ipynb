{
  "cells": [
    {
      "cell_type": "markdown",
      "metadata": {
        "id": "DN15rkKvhGBr"
      },
      "source": [
        "# Exercise 5"
      ]
    },
    {
      "cell_type": "markdown",
      "metadata": {
        "id": "oEys_5t7hGBt"
      },
      "source": [
        "#### 1. Create a dictionary of your 10 favorite songs."
      ]
    },
    {
      "cell_type": "markdown",
      "metadata": {
        "id": "T1iOtzXshGBu"
      },
      "source": [
        "Example:\n",
        "\n",
        "|KEY|VALUE|\n",
        "|---|---|\n",
        "|001|My Love|\n",
        "|002|Like a rose|"
      ]
    },
    {
      "cell_type": "code",
      "execution_count": 26,
      "metadata": {
        "id": "dprOhMRchGBu",
        "colab": {
          "base_uri": "https://localhost:8080/"
        },
        "outputId": "723a6d9e-5f40-4e30-811b-b22e91bafff9"
      },
      "outputs": [
        {
          "output_type": "execute_result",
          "data": {
            "text/plain": [
              "{'001': 'Kapag Lasing Malambing',\n",
              " '002': 'Wish You Were Sober',\n",
              " '003': 'boyfriend (with Social House)',\n",
              " '004': 'Backburner',\n",
              " '005': 'Beer',\n",
              " '006': \"Why'd You Only Call Me When You're High\",\n",
              " '007': 'Lie To Me',\n",
              " '008': \"I Won't Give Up\",\n",
              " '009': 'ERE',\n",
              " '010': 'Oceans and Engines'}"
            ]
          },
          "metadata": {},
          "execution_count": 26
        }
      ],
      "source": [
        "alak = {\n",
        "  \"001\":\"Kapag Lasing Malambing\",\n",
        "  \"002\":\"Wish You Were Sober\",\n",
        "  \"003\":\"boyfriend (with Social House)\",\n",
        "  \"004\":\"Backburner\",\n",
        "  \"005\":\"Beer\",\n",
        "  \"006\":\"Why'd You Only Call Me When You're High\",\n",
        "  \"007\":\"Lie To Me\",\n",
        "  \"008\":\"I Won't Give Up\",\n",
        "  \"009\":\"ERE\",\n",
        "  \"010\":\"Oceans and Engines\"}\n",
        "\n",
        "alak"
      ]
    },
    {
      "cell_type": "markdown",
      "metadata": {
        "id": "g1FstA7XhGBv"
      },
      "source": [
        "#### 2. Loop through the dictionary by its **key** and **value**"
      ]
    },
    {
      "cell_type": "code",
      "execution_count": 27,
      "metadata": {
        "id": "QgyUTiuHhGBv",
        "colab": {
          "base_uri": "https://localhost:8080/"
        },
        "outputId": "06ad914d-27f7-43bb-c98d-7a6086b790e1"
      },
      "outputs": [
        {
          "output_type": "stream",
          "name": "stdout",
          "text": [
            "Kapag Lasing Malambing\n",
            "Wish You Were Sober\n",
            "boyfriend (with Social House)\n",
            "Backburner\n",
            "Beer\n",
            "Why'd You Only Call Me When You're High\n",
            "Lie To Me\n",
            "I Won't Give Up\n",
            "ERE\n",
            "Oceans and Engines\n"
          ]
        }
      ],
      "source": [
        "for x in alak:\n",
        "    print(alak[x])\n"
      ]
    },
    {
      "cell_type": "markdown",
      "metadata": {
        "id": "h5N_w8-yhGBw"
      },
      "source": [
        "#### 3. Add one additional song"
      ]
    },
    {
      "cell_type": "code",
      "execution_count": 28,
      "metadata": {
        "id": "oUXMAJWEhGBw",
        "colab": {
          "base_uri": "https://localhost:8080/"
        },
        "outputId": "6f4aff96-6c1b-4d2f-f635-66005dc1d2be"
      },
      "outputs": [
        {
          "output_type": "execute_result",
          "data": {
            "text/plain": [
              "{'001': 'Kapag Lasing Malambing',\n",
              " '002': 'Wish You Were Sober',\n",
              " '003': 'boyfriend (with Social House)',\n",
              " '004': 'Backburner',\n",
              " '005': 'Beer',\n",
              " '006': \"Why'd You Only Call Me When You're High\",\n",
              " '007': 'Lie To Me',\n",
              " '008': \"I Won't Give Up\",\n",
              " '009': 'ERE',\n",
              " '010': 'Oceans and Engines',\n",
              " '011': 'Sa Hindi Pag-Alala'}"
            ]
          },
          "metadata": {},
          "execution_count": 28
        }
      ],
      "source": [
        "alak[\"011\"] = \"Sa Hindi Pag-Alala\"\n",
        "alak"
      ]
    },
    {
      "cell_type": "markdown",
      "metadata": {
        "id": "7OlW5r9dhGBx"
      },
      "source": [
        "#### 4. Remove one song"
      ]
    },
    {
      "cell_type": "code",
      "execution_count": 29,
      "metadata": {
        "id": "g39mqwpDhGBx",
        "colab": {
          "base_uri": "https://localhost:8080/"
        },
        "outputId": "b792eccb-a139-4d86-f7ee-838946a58a88"
      },
      "outputs": [
        {
          "output_type": "execute_result",
          "data": {
            "text/plain": [
              "{'001': 'Kapag Lasing Malambing',\n",
              " '002': 'Wish You Were Sober',\n",
              " '003': 'boyfriend (with Social House)',\n",
              " '004': 'Backburner',\n",
              " '005': 'Beer',\n",
              " '006': \"Why'd You Only Call Me When You're High\",\n",
              " '007': 'Lie To Me',\n",
              " '008': \"I Won't Give Up\",\n",
              " '009': 'ERE',\n",
              " '010': 'Oceans and Engines'}"
            ]
          },
          "metadata": {},
          "execution_count": 29
        }
      ],
      "source": [
        "alak.pop(\"011\")\n",
        "alak"
      ]
    },
    {
      "cell_type": "markdown",
      "metadata": {
        "id": "gZ8Sr1bzhGBy"
      },
      "source": [
        "#### 5. Create a nested dictionary of your 10 favorite songs with 5 genres. Display all of the items of the nested dictionary\n",
        "\n",
        "- Each nested dictionary's key should be the genre of the song\n",
        "- Put each song in their respective genre"
      ]
    },
    {
      "cell_type": "markdown",
      "metadata": {
        "id": "US1ZaaSJhGBy"
      },
      "source": [
        "Example:\n",
        "\n",
        "\n",
        "|KEY|VALUE|\n",
        "|---|---|\n",
        "|Pop|{001, Baby}|\n",
        "|Rock|{001, Enter Sandman}|"
      ]
    },
    {
      "cell_type": "code",
      "execution_count": 30,
      "metadata": {
        "id": "z577KULkhGBz",
        "colab": {
          "base_uri": "https://localhost:8080/"
        },
        "outputId": "ce57e375-d3ce-4b68-fd81-6c450a4a6817"
      },
      "outputs": [
        {
          "output_type": "execute_result",
          "data": {
            "text/plain": [
              "{'OPM': {'001': 'Makalimutan Ka', '002': 'Sa Hindi Pag-Alala'},\n",
              " 'Pop': {'001': 'Cruel Summer', '002': 'August'},\n",
              " 'Indie Rock': {'001': 'Take Me To Church', '002': '505'},\n",
              " 'Punk Rock': {'001': 'Wake Me Up When September Ends',\n",
              "  '002': 'American Idiot'},\n",
              " 'Indie': {'001': 'Fourth of July', '002': 'Favorite Record'}}"
            ]
          },
          "metadata": {},
          "execution_count": 30
        }
      ],
      "source": [
        "alak_genres = {\n",
        "  \"OPM\": {\n",
        "      \"001\" : \"Makalimutan Ka\",\n",
        "      \"002\" : \"Sa Hindi Pag-Alala\",\n",
        "  },\n",
        "  \"Pop\":{\n",
        "    \"001\": \"Cruel Summer\",\n",
        "    \"002\" : \"August\",\n",
        "  },\n",
        "  \"Indie Rock\":{\n",
        "    \"001\" : \"Take Me To Church\",\n",
        "    \"002\" : \"505\"\n",
        "  },\n",
        "  \"Punk Rock\":{\n",
        "      \"001\" : \"Wake Me Up When September Ends\",\n",
        "      \"002\" : \"American Idiot\"\n",
        "  },\n",
        "  \"Indie\":{\n",
        "    \"001\" : \"Fourth of July\",\n",
        "    \"002\" : \"Favorite Record\"\n",
        "  }\n",
        "}\n",
        "\n",
        "alak_genres"
      ]
    },
    {
      "cell_type": "markdown",
      "metadata": {
        "id": "ZMgltzOkhGBz"
      },
      "source": [
        "#### 6. Print the first song of the first genre"
      ]
    },
    {
      "cell_type": "code",
      "execution_count": 31,
      "metadata": {
        "id": "nmXUGoNWhGBz",
        "colab": {
          "base_uri": "https://localhost:8080/"
        },
        "outputId": "9876ecff-afab-4c27-82df-e669d46ed3d2"
      },
      "outputs": [
        {
          "output_type": "stream",
          "name": "stdout",
          "text": [
            "Makalimutan Ka\n"
          ]
        }
      ],
      "source": [
        "print(alak_genres[\"OPM\"][\"001\"])"
      ]
    },
    {
      "cell_type": "markdown",
      "metadata": {
        "id": "dEcgwp_ihGB0"
      },
      "source": [
        "#### 7. Print the first song of the last genre"
      ]
    },
    {
      "cell_type": "code",
      "execution_count": 32,
      "metadata": {
        "id": "ITbuWq2UhGB0",
        "colab": {
          "base_uri": "https://localhost:8080/"
        },
        "outputId": "828f9954-7936-4c16-d40b-b4bd5b0091e5"
      },
      "outputs": [
        {
          "output_type": "stream",
          "name": "stdout",
          "text": [
            "Fourth of July\n"
          ]
        }
      ],
      "source": [
        "print(alak_genres[\"Indie\"][\"001\"])"
      ]
    }
  ],
  "metadata": {
    "kernelspec": {
      "display_name": "Python 3",
      "language": "python",
      "name": "python3"
    },
    "language_info": {
      "codemirror_mode": {
        "name": "ipython",
        "version": 3
      },
      "file_extension": ".py",
      "mimetype": "text/x-python",
      "name": "python",
      "nbconvert_exporter": "python",
      "pygments_lexer": "ipython3",
      "version": "3.11.4"
    },
    "orig_nbformat": 4,
    "colab": {
      "provenance": []
    }
  },
  "nbformat": 4,
  "nbformat_minor": 0
}
{
  "cells": [
    {
      "cell_type": "markdown",
      "metadata": {
        "id": "e3Ja3uozAJlw"
      },
      "source": [
        "# Exercise 7"
      ]
    },
    {
      "cell_type": "code",
      "execution_count": 24,
      "metadata": {
        "id": "IW6uTwU8AJly"
      },
      "outputs": [],
      "source": [
        "class Node:\n",
        "    def __init__(self, item):\n",
        "        self.left = None\n",
        "        self.right = None\n",
        "        self.val = item"
      ]
    },
    {
      "cell_type": "code",
      "execution_count": 25,
      "metadata": {
        "id": "uxVFuimIAJlz"
      },
      "outputs": [],
      "source": [
        "def evaluateExpressionTree(root):\n",
        "\n",
        "    # empty tree\n",
        "    if root is None:\n",
        "        return 0\n",
        "\n",
        "    # leaf node\n",
        "    if root.left is None and root.right is None:\n",
        "        return int(root.val)\n",
        "\n",
        "    # evaluate left tree\n",
        "    left_sum = evaluateExpressionTree(root.left)\n",
        "\n",
        "    # evaluate right tree\n",
        "    right_sum = evaluateExpressionTree(root.right)\n",
        "\n",
        "    # check which operation to apply\n",
        "    if root.val == '+':\n",
        "        return left_sum + right_sum\n",
        "\n",
        "    elif root.val == '-':\n",
        "        return left_sum - right_sum\n",
        "\n",
        "    elif root.val == '*':\n",
        "        return left_sum * right_sum\n",
        "\n",
        "    else:\n",
        "        return left_sum // right_sum"
      ]
    },
    {
      "cell_type": "code",
      "execution_count": 26,
      "metadata": {
        "id": "-xWZXA-mAJl0"
      },
      "outputs": [],
      "source": [
        "def inorder(root):\n",
        "\n",
        "    if root:\n",
        "        # Traverse left\n",
        "        inorder(root.left)\n",
        "        # Traverse root\n",
        "        print(str(root.val) + \"->\", end='')\n",
        "        # Traverse right\n",
        "        inorder(root.right)"
      ]
    },
    {
      "cell_type": "markdown",
      "metadata": {
        "id": "CVtqxh5DAJl1"
      },
      "source": [
        "#### 1. Construct a binary expression tree\n",
        "\n",
        "$ (8 + 4) * (7 - 9) $"
      ]
    },
    {
      "cell_type": "code",
      "execution_count": 27,
      "metadata": {
        "id": "CxpP0zcVAJl1",
        "outputId": "83d66659-719a-4fb3-a5cc-36b69cd0c082",
        "colab": {
          "base_uri": "https://localhost:8080/"
        }
      },
      "outputs": [
        {
          "output_type": "stream",
          "name": "stdout",
          "text": [
            "8->+->4->*->7->-->9->\n",
            "result: \n"
          ]
        },
        {
          "output_type": "execute_result",
          "data": {
            "text/plain": [
              "-24"
            ]
          },
          "metadata": {},
          "execution_count": 27
        }
      ],
      "source": [
        "eight_node = Node(\"8\")\n",
        "plus_node = Node(\"+\")\n",
        "four_node = Node(\"4\")\n",
        "multiply_node = Node(\"*\")\n",
        "seven_node = Node(\"7\")\n",
        "minus_node = Node(\"-\")\n",
        "nine_node = Node(\"9\")\n",
        "\n",
        "multiply_node.left = plus_node\n",
        "multiply_node.right = minus_node\n",
        "\n",
        "plus_node.left = eight_node\n",
        "plus_node.right = four_node\n",
        "\n",
        "minus_node.left = seven_node\n",
        "minus_node.right = nine_node\n",
        "\n",
        "inorder(multiply_node)\n",
        "print(\"\\nresult: \")\n",
        "evaluateExpressionTree(multiply_node)\n",
        "\n"
      ]
    },
    {
      "cell_type": "markdown",
      "metadata": {
        "id": "jc5KHLk6AJl2"
      },
      "source": [
        "#### 2. Construct a binary expression tree\n",
        "\n",
        "$ 5 / 8 + 3 - 6 * 1 $"
      ]
    },
    {
      "cell_type": "code",
      "execution_count": 28,
      "metadata": {
        "id": "XORzqkC3AJl2",
        "outputId": "8a00f53d-f2fa-46f1-ec24-4711a0f05c1a",
        "colab": {
          "base_uri": "https://localhost:8080/"
        }
      },
      "outputs": [
        {
          "output_type": "stream",
          "name": "stdout",
          "text": [
            "5->/->8->+->3->-->6->*->1->\n",
            "result: \n"
          ]
        },
        {
          "output_type": "execute_result",
          "data": {
            "text/plain": [
              "-3"
            ]
          },
          "metadata": {},
          "execution_count": 28
        }
      ],
      "source": [
        "root = Node(\"+\")\n",
        "node1 = Node(\"5\")\n",
        "node2 = Node(\"/\")\n",
        "node3 = Node(\"8\")\n",
        "node4 = Node(\"3\")\n",
        "node5 = Node(\"-\")\n",
        "node6 = Node(\"6\")\n",
        "node7 = Node(\"*\")\n",
        "node8 = Node(\"1\")\n",
        "\n",
        "root.left = node2\n",
        "root.right = node5\n",
        "\n",
        "node5.left = node4\n",
        "node5.right = node7\n",
        "\n",
        "node7.left = node6\n",
        "node7.right = node8\n",
        "\n",
        "node2.left = node1\n",
        "node2.right = node3\n",
        "\n",
        "inorder(root)\n",
        "\n",
        "print(\"\\nresult: \")\n",
        "\n",
        "evaluateExpressionTree(root)"
      ]
    },
    {
      "cell_type": "markdown",
      "metadata": {
        "id": "tu3n5ZdWAJl2"
      },
      "source": [
        "#### 3. Construct a binary expression tree\n",
        "\n",
        "$ ((2 + 5) / 3)- (3 + 8) $"
      ]
    },
    {
      "cell_type": "code",
      "execution_count": 29,
      "metadata": {
        "id": "5GvZBxgtAJl3",
        "outputId": "fb1a520f-1b9c-444f-a9e2-4b5e1d9bd3e9",
        "colab": {
          "base_uri": "https://localhost:8080/"
        }
      },
      "outputs": [
        {
          "output_type": "stream",
          "name": "stdout",
          "text": [
            "2->+->5->/->3->-->3->+->8->\n",
            "result: \n"
          ]
        },
        {
          "output_type": "execute_result",
          "data": {
            "text/plain": [
              "-9"
            ]
          },
          "metadata": {},
          "execution_count": 29
        }
      ],
      "source": [
        "root = Node(\"-\")\n",
        "node1 = Node(\"2\")\n",
        "node2 = Node(\"+\")\n",
        "node3 = Node(\"5\")\n",
        "node4 = Node(\"/\")\n",
        "node5 = Node(\"3\")\n",
        "node6 = Node(\"3\")\n",
        "node7 = Node(\"+\")\n",
        "node8 = Node(\"8\")\n",
        "\n",
        "root.left = node4\n",
        "root.right = node7\n",
        "\n",
        "node7.left = node6\n",
        "node7.right = node8\n",
        "\n",
        "node4.left = node2\n",
        "node4.right = node5\n",
        "\n",
        "node2.left = node1\n",
        "node2.right = node3\n",
        "\n",
        "inorder(root)\n",
        "print(\"\\nresult: \")\n",
        "evaluateExpressionTree(root)\n",
        "\n",
        "\n",
        "\n"
      ]
    }
  ],
  "metadata": {
    "kernelspec": {
      "display_name": "Python 3",
      "language": "python",
      "name": "python3"
    },
    "language_info": {
      "codemirror_mode": {
        "name": "ipython",
        "version": 3
      },
      "file_extension": ".py",
      "mimetype": "text/x-python",
      "name": "python",
      "nbconvert_exporter": "python",
      "pygments_lexer": "ipython3",
      "version": "3.11.4"
    },
    "orig_nbformat": 4,
    "colab": {
      "provenance": []
    }
  },
  "nbformat": 4,
  "nbformat_minor": 0
}
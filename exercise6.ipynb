{
  "cells": [
    {
      "cell_type": "markdown",
      "metadata": {
        "id": "jS6fJiaLBiUe"
      },
      "source": [
        "# Exercise 6"
      ]
    },
    {
      "cell_type": "markdown",
      "metadata": {
        "id": "11_AsbFGBiUh"
      },
      "source": [
        "#### Pre-defined code"
      ]
    },
    {
      "cell_type": "code",
      "execution_count": 24,
      "metadata": {
        "id": "Z7i9IvjSBiUh"
      },
      "outputs": [],
      "source": [
        "class Node:\n",
        "    def __init__(self, item):\n",
        "        self.left = None\n",
        "        self.right = None\n",
        "        self.val = item"
      ]
    },
    {
      "cell_type": "code",
      "execution_count": 25,
      "metadata": {
        "id": "KALb9_R4BiUi"
      },
      "outputs": [],
      "source": [
        "def inorder(root):\n",
        "\n",
        "    if root:\n",
        "        # Traverse left\n",
        "        inorder(root.left)\n",
        "        # Traverse root\n",
        "        print(str(root.val) + \"->\", end='')\n",
        "        # Traverse right\n",
        "        inorder(root.right)\n",
        "\n",
        "def postorder(root):\n",
        "\n",
        "    if root:\n",
        "        # Traverse left\n",
        "        postorder(root.left)\n",
        "        # Traverse right\n",
        "        postorder(root.right)\n",
        "        # Traverse root\n",
        "        print(str(root.val) + \"->\", end='')\n",
        "\n",
        "def preorder(root):\n",
        "\n",
        "    if root:\n",
        "        # Traverse root\n",
        "        print(str(root.val) + \"->\", end='')\n",
        "        # Traverse left\n",
        "        preorder(root.left)\n",
        "        # Traverse right\n",
        "        preorder(root.right)"
      ]
    },
    {
      "cell_type": "markdown",
      "metadata": {
        "id": "eBhILleHBiUj"
      },
      "source": [
        "#### 1. Construct Create your own company org chart and put yourself as CEO.\n",
        "\n",
        "Using a Tree data structure,\n",
        "\n",
        "- Assign yourself as CEO\n",
        "\n",
        "- Assign any of your classmate as HR Director\n",
        "- Assign any of your classmate as Sales Director\n",
        "\n",
        "- Assign any of your classmate as trainee. His/her boss is the HR Director\n",
        "- Assign any of your classmate as a staff and trainee. Their boss is the Sales Director\n"
      ]
    },
    {
      "cell_type": "markdown",
      "metadata": {
        "id": "2DYLDG7FBiUk"
      },
      "source": [
        "<img src=\"https://thumbs.dreamstime.com/z/cartoon-organization-chart-some-company-93778925.jpg\"/>"
      ]
    },
    {
      "cell_type": "code",
      "execution_count": 26,
      "metadata": {
        "id": "SPgR74aEBiUk"
      },
      "outputs": [],
      "source": [
        "CEO = Node(\"CEO: Renz\")\n",
        "HR = Node(\"HR: Rodney\")\n",
        "Sales = Node(\"Sales: Alberto\")\n",
        "HR_Trainee = Node(\"Trainee: Danyssa\")\n",
        "Sales_Staff = Node(\"Staff Cailing\")\n",
        "Sales_Trainee = Node(\"Trainee Elijah\")\n",
        "\n",
        "CEO.left = HR\n",
        "CEO.right = Sales\n",
        "\n",
        "HR.left = HR_Trainee\n",
        "\n",
        "Sales.left = Sales_Staff\n",
        "Sales.right = Sales_Trainee\n"
      ]
    },
    {
      "cell_type": "markdown",
      "metadata": {
        "id": "u-VoLGiGBiUl"
      },
      "source": [
        "#### 2. Traverse the tree in in-order traversal"
      ]
    },
    {
      "cell_type": "code",
      "execution_count": 27,
      "metadata": {
        "id": "bqWBAe2wBiUl",
        "outputId": "a5ebcc34-9a45-4b6d-e98c-a427e4acc006",
        "colab": {
          "base_uri": "https://localhost:8080/"
        }
      },
      "outputs": [
        {
          "output_type": "stream",
          "name": "stdout",
          "text": [
            "Trainee: Danyssa->HR: Rodney->CEO: Renz->Staff Cailing->Sales: Alberto->Trainee Elijah->"
          ]
        }
      ],
      "source": [
        "inorder(CEO)"
      ]
    },
    {
      "cell_type": "markdown",
      "metadata": {
        "id": "etq7zE6WBiUl"
      },
      "source": [
        "#### 3. Traverse the tree in pre-order traversal"
      ]
    },
    {
      "cell_type": "code",
      "execution_count": 28,
      "metadata": {
        "id": "SA9CACVTBiUm",
        "outputId": "3aa49dea-6337-4346-82ea-14e0652819d2",
        "colab": {
          "base_uri": "https://localhost:8080/"
        }
      },
      "outputs": [
        {
          "output_type": "stream",
          "name": "stdout",
          "text": [
            "CEO: Renz->HR: Rodney->Trainee: Danyssa->Sales: Alberto->Staff Cailing->Trainee Elijah->"
          ]
        }
      ],
      "source": [
        "preorder(CEO)"
      ]
    },
    {
      "cell_type": "markdown",
      "metadata": {
        "id": "ljvzo53wBiUm"
      },
      "source": [
        "#### 4. Traverse the tree in post-order traversal"
      ]
    },
    {
      "cell_type": "code",
      "execution_count": 29,
      "metadata": {
        "id": "FLaWAPFEBiUm",
        "outputId": "62368cc8-cb89-434b-c8bd-92213d4660b6",
        "colab": {
          "base_uri": "https://localhost:8080/"
        }
      },
      "outputs": [
        {
          "output_type": "stream",
          "name": "stdout",
          "text": [
            "Trainee: Danyssa->HR: Rodney->Staff Cailing->Trainee Elijah->Sales: Alberto->CEO: Renz->"
          ]
        }
      ],
      "source": [
        "postorder(CEO)"
      ]
    }
  ],
  "metadata": {
    "kernelspec": {
      "display_name": "Python 3",
      "language": "python",
      "name": "python3"
    },
    "language_info": {
      "codemirror_mode": {
        "name": "ipython",
        "version": 3
      },
      "file_extension": ".py",
      "mimetype": "text/x-python",
      "name": "python",
      "nbconvert_exporter": "python",
      "pygments_lexer": "ipython3",
      "version": "3.11.4"
    },
    "orig_nbformat": 4,
    "colab": {
      "provenance": []
    }
  },
  "nbformat": 4,
  "nbformat_minor": 0
}
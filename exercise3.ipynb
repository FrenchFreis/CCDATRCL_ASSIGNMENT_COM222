{
  "cells": [
    {
      "cell_type": "markdown",
      "metadata": {
        "id": "lAjYLLwOH311"
      },
      "source": [
        "# Exercise 3"
      ]
    },
    {
      "cell_type": "markdown",
      "metadata": {
        "id": "tXX_NU2iH313"
      },
      "source": [
        "#### Pre-defined classes"
      ]
    },
    {
      "cell_type": "markdown",
      "metadata": {
        "id": "ltYCu24VH314"
      },
      "source": [
        "Pre-defined Queue class"
      ]
    },
    {
      "cell_type": "code",
      "execution_count": 71,
      "metadata": {
        "id": "LLRrXaq0H315"
      },
      "outputs": [],
      "source": [
        "class Queue:\n",
        "    def __init__(self):\n",
        "        self.queue = []\n",
        "\n",
        "    # Add an element\n",
        "    def enqueue(self, item):\n",
        "        self.queue.append(item)\n",
        "\n",
        "    # Remove an element\n",
        "    def dequeue(self):\n",
        "        if len(self.queue) < 1:\n",
        "            return None\n",
        "        return self.queue.pop(0)\n",
        "\n",
        "    # Display  the queue\n",
        "    def display(self):\n",
        "        print(self.queue)\n",
        "\n",
        "    def size(self):\n",
        "        return len(self.queue)\n",
        "\n",
        "    def peek(self):\n",
        "        return self.queue[0]\n"
      ]
    },
    {
      "cell_type": "markdown",
      "metadata": {
        "id": "jnuMULQaH316"
      },
      "source": [
        "Pre-defined Deque class"
      ]
    },
    {
      "cell_type": "code",
      "execution_count": 72,
      "metadata": {
        "id": "wBc0RG1fH316"
      },
      "outputs": [],
      "source": [
        "class Deque:\n",
        "    def __init__(self):\n",
        "        self.items = []\n",
        "\n",
        "    def isEmpty(self):\n",
        "        return self.items == []\n",
        "\n",
        "    def addRear(self, item):\n",
        "        self.items.append(item)\n",
        "\n",
        "    def addFront(self, item):\n",
        "        self.items.insert(0, item)\n",
        "\n",
        "    def removeFront(self):\n",
        "        return self.items.pop(0)\n",
        "\n",
        "    def removeRear(self):\n",
        "        return self.items.pop()\n",
        "\n",
        "    def size(self):\n",
        "        return len(self.items)"
      ]
    },
    {
      "cell_type": "markdown",
      "metadata": {
        "id": "m8lu62aFH317"
      },
      "source": [
        "Pre-defined Circular Queue class"
      ]
    },
    {
      "cell_type": "code",
      "execution_count": 73,
      "metadata": {
        "id": "4Mix-CCuH317"
      },
      "outputs": [],
      "source": [
        "class CircularQueue():\n",
        "\n",
        "    def __init__(self, k):\n",
        "        self.k = k\n",
        "        self.queue = [None] * k\n",
        "        self.head = self.tail = -1\n",
        "\n",
        "    # Insert an element into the circular queue\n",
        "    def enqueue(self, data):\n",
        "\n",
        "        if ((self.tail + 1) % self.k == self.head):\n",
        "            print(\"The circular queue is full\\n\")\n",
        "\n",
        "        elif (self.head == -1):\n",
        "            self.head = 0\n",
        "            self.tail = 0\n",
        "            self.queue[self.tail] = data\n",
        "        else:\n",
        "            self.tail = (self.tail + 1) % self.k\n",
        "            self.queue[self.tail] = data\n",
        "\n",
        "    # Delete an element from the circular queue\n",
        "    def dequeue(self):\n",
        "        if (self.head == -1):\n",
        "            print(\"The circular queue is empty\\n\")\n",
        "\n",
        "        elif (self.head == self.tail):\n",
        "            temp = self.queue[self.head]\n",
        "            self.head = -1\n",
        "            self.tail = -1\n",
        "            return temp\n",
        "        else:\n",
        "            temp = self.queue[self.head]\n",
        "            self.head = (self.head + 1) % self.k\n",
        "            return temp\n",
        "\n",
        "    def printCQueue(self):\n",
        "        if(self.head == -1):\n",
        "            print(\"No element in the circular queue\")\n",
        "\n",
        "        elif (self.tail >= self.head):\n",
        "            for i in range(self.head, self.tail + 1):\n",
        "                print(self.queue[i], end=\" \")\n",
        "            print()\n",
        "        else:\n",
        "            for i in range(self.head, self.k):\n",
        "                print(self.queue[i], end=\" \")\n",
        "            for i in range(0, self.tail + 1):\n",
        "                print(self.queue[i], end=\" \")\n",
        "            print()\n"
      ]
    },
    {
      "cell_type": "markdown",
      "metadata": {
        "id": "2zf4LyQUH318"
      },
      "source": [
        "Pre-defined Priority Queue Class"
      ]
    },
    {
      "cell_type": "code",
      "execution_count": 74,
      "metadata": {
        "id": "jeDxl_FPH319"
      },
      "outputs": [],
      "source": [
        "class PriorityQueueNode:\n",
        "    def __init__(self, value, pr):\n",
        "\n",
        "        self.data = value\n",
        "        self.priority = pr\n",
        "        self.next = None"
      ]
    },
    {
      "cell_type": "code",
      "execution_count": 75,
      "metadata": {
        "id": "NqqkjkixH319"
      },
      "outputs": [],
      "source": [
        "class PriorityQueue:\n",
        "\n",
        "\tdef __init__(self):\n",
        "\n",
        "\t\tself.front = None\n",
        "\n",
        "\t# Method to check Priority Queue is Empty\n",
        "\t# or not if Empty then it will return True\n",
        "\t# Otherwise False\n",
        "\tdef isEmpty(self):\n",
        "\n",
        "\t\treturn True if self.front == None else False\n",
        "\n",
        "\t# Method to add items in Priority Queue\n",
        "\t# According to their priority value\n",
        "\tdef push(self, value, priority):\n",
        "\n",
        "\t\t# Condition check for checking Priority\n",
        "\t\t# Queue is empty or not\n",
        "\t\tif self.isEmpty() == True:\n",
        "\n",
        "\t\t\t# Creating a new node and assigning\n",
        "\t\t\t# it to class variable\n",
        "\t\t\tself.front = PriorityQueueNode(value, priority)\n",
        "\n",
        "\t\t\t# Returning 1 for successful execution\n",
        "\t\t\treturn 1\n",
        "\n",
        "\t\telse:\n",
        "\n",
        "\t\t\t# Special condition check to see that\n",
        "\t\t\t# first node priority value\n",
        "\t\t\tif self.front.priority > priority:\n",
        "\t\t\t\t# Creating a new node\n",
        "\t\t\t\tnewNode = PriorityQueueNode(value, priority)\n",
        "\t\t\t\t# Updating the new node next value\n",
        "\t\t\t\tnewNode.next = self.front\n",
        "\n",
        "\t\t\t\t# Assigning it to self.front\n",
        "\t\t\t\tself.front = newNode\n",
        "\n",
        "\t\t\t\t# Returning 1 for successful execution\n",
        "\t\t\t\treturn 1\n",
        "\n",
        "\t\t\telse:\n",
        "\n",
        "\t\t\t\t# Traversing through Queue until it\n",
        "\t\t\t\t# finds the next smaller priority node\n",
        "\t\t\t\ttemp = self.front\n",
        "\n",
        "\t\t\t\twhile temp.next:\n",
        "\t\t\t\t\t# If same priority node found then current\n",
        "\t\t\t\t\t# node will come after previous node\n",
        "\t\t\t\t\tif priority <= temp.next.priority:\n",
        "\t\t\t\t\t\tbreak\n",
        "\n",
        "\t\t\t\t\ttemp = temp.next\n",
        "\n",
        "\t\t\t\tnewNode = PriorityQueueNode(value, priority)\n",
        "\t\t\t\tnewNode.next = temp.next\n",
        "\t\t\t\ttemp.next = newNode\n",
        "\n",
        "\t\t\t\t# Returning 1 for successful execution\n",
        "\t\t\t\treturn 1\n",
        "\n",
        "\t# Method to remove high priority item\n",
        "\t# from the Priority Queue\n",
        "\tdef pop(self):\n",
        "\n",
        "\t\t# Condition check for checking\n",
        "\t\t# Priority Queue is empty or not\n",
        "\t\tif self.isEmpty() == True:\n",
        "\t\t\treturn\n",
        "\t\telse:\n",
        "\t\t\t# Removing high priority node from\n",
        "\t\t\t# Priority Queue, and updating front\n",
        "\t\t\t# with next node\n",
        "\t\t\tself.front = self.front.next\n",
        "\t\t\treturn 1\n",
        "\n",
        "\t# Method to return high priority node\n",
        "\t# value Not removing it\n",
        "\tdef peek(self):\n",
        "\t\t# Condition check for checking Priority\n",
        "\t\t# Queue is empty or not\n",
        "\t\tif self.isEmpty() == True:\n",
        "\t\t\treturn\n",
        "\t\telse:\n",
        "\t\t\treturn self.front.data\n",
        "\n",
        "\t# Method to Traverse through Priority\n",
        "\t# Queue\n",
        "\tdef traverse(self):\n",
        "\t\t# Condition check for checking Priority\n",
        "\t\t# Queue is empty or not\n",
        "\t\tif self.isEmpty() == True:\n",
        "\t\t\treturn \"Queue is Empty!\"\n",
        "\t\telse:\n",
        "\t\t\ttemp = self.front\n",
        "\t\t\twhile temp:\n",
        "\t\t\t\tprint(temp.data, end=\" \")\n",
        "\t\t\t\ttemp = temp.next\n"
      ]
    },
    {
      "cell_type": "markdown",
      "metadata": {
        "id": "3gBSw52DH31-"
      },
      "source": [
        "#### 1. Create a Queue\n",
        "\n",
        "- Each element should contain your name and your other classmates\n",
        "- There should be at least 5 elements in the queue\n",
        "- Put yourself at the end of the queue\n",
        "- Print all elements in the queue"
      ]
    },
    {
      "cell_type": "code",
      "execution_count": 76,
      "metadata": {
        "id": "NDJhWs61H31-",
        "colab": {
          "base_uri": "https://localhost:8080/"
        },
        "outputId": "fe3cffc3-f5ed-4bc3-dc49-725da9fcf512"
      },
      "outputs": [
        {
          "output_type": "stream",
          "name": "stdout",
          "text": [
            "['Jai', 'Elijah', 'Denmar', 'Rodney', 'Renz']\n"
          ]
        }
      ],
      "source": [
        "mates = Queue()\n",
        "\n",
        "mates.enqueue(\"Jai\")\n",
        "mates.enqueue(\"Elijah\")\n",
        "mates.enqueue(\"Denmar\")\n",
        "mates.enqueue(\"Rodney\")\n",
        "mates.enqueue(\"Renz\")\n",
        "\n",
        "mates.display()"
      ]
    },
    {
      "cell_type": "markdown",
      "metadata": {
        "id": "Mt4K9DTyH31_"
      },
      "source": [
        "#### 2. Create a Deque\n",
        "\n",
        "Given the queue below,\n",
        "\n",
        "**Queue:**\n",
        "\n",
        "| Cat | Dog | Rabbit | Bird | Hamster\n",
        "| --- | --- | --- | --- | --- |\n",
        "\n",
        "**dequeue** each element and insert them into a **Deque** in the following order below:\n",
        "\n",
        "**Deque:**\n",
        "\n",
        "| Hamster | Bird | Rabbit | Dog | Cat\n",
        "| --- | --- | --- | --- | --- |\n",
        "\n",
        "**Expected output:**\n",
        "\n",
        "['Hamster','Bird', 'Rabbit', 'Dog', 'Cat']"
      ]
    },
    {
      "cell_type": "code",
      "execution_count": 77,
      "metadata": {
        "id": "WNWg_tM9H31_",
        "colab": {
          "base_uri": "https://localhost:8080/"
        },
        "outputId": "05b889e6-679b-4fa0-94dd-ac1ea1ea2732"
      },
      "outputs": [
        {
          "output_type": "stream",
          "name": "stdout",
          "text": [
            "['Hamster', 'Bird', 'Rabbit', 'Dog', 'Cat']\n"
          ]
        }
      ],
      "source": [
        "queue =  Queue()\n",
        "\n",
        "queue.enqueue(\"Cat\")\n",
        "queue.enqueue(\"Dog\")\n",
        "queue.enqueue(\"Rabbit\")\n",
        "queue.enqueue(\"Bird\")\n",
        "queue.enqueue(\"Hamster\")\n",
        "\n",
        "deque = Deque()\n",
        "\n",
        "while (queue.size() != 0):\n",
        "  deque.addFront(queue.dequeue())\n",
        "\n",
        "print(deque.items)\n",
        "\n"
      ]
    },
    {
      "cell_type": "markdown",
      "metadata": {
        "id": "aq19qazZH32A"
      },
      "source": [
        "#### 3. Create a Circular Queue\n",
        "\n",
        "Given the queue below,\n",
        "\n",
        "**Queue:**\n",
        "\n",
        "| I | II | III | IV | V | VI | VII | VIII | IX | X | XI | XII\n",
        "| --- | --- | --- | --- | --- | --- | --- | --- | --- | --- | --- | --- |\n",
        "\n",
        "**dequeue** each element and insert them into a **Circular Queue** in the following order below:\n",
        "\n",
        "**Circular Queue:**\n",
        "\n",
        "<img src=\"https://github.com/robitussin/CCDATRCL_EXERCISES/blob/main/clock.jpg?raw=1\"/>\n",
        "\n",
        "**Expected output:**\n",
        "\n",
        "I II III IV V VI VII VIII IX X XI XII"
      ]
    },
    {
      "cell_type": "code",
      "execution_count": 78,
      "metadata": {
        "id": "FI0VQ8ozH32A",
        "colab": {
          "base_uri": "https://localhost:8080/"
        },
        "outputId": "bcac3c46-6f20-4d13-aed8-62262cfd707c"
      },
      "outputs": [
        {
          "output_type": "stream",
          "name": "stdout",
          "text": [
            "I II III IV V VI VII VIII IX X XI XII \n"
          ]
        }
      ],
      "source": [
        "numbers = Queue()\n",
        "\n",
        "numbers.enqueue(\"I\")\n",
        "numbers.enqueue(\"II\")\n",
        "numbers.enqueue(\"III\")\n",
        "numbers.enqueue(\"IV\")\n",
        "numbers.enqueue(\"V\")\n",
        "numbers.enqueue(\"VI\")\n",
        "numbers.enqueue(\"VII\")\n",
        "numbers.enqueue(\"VIII\")\n",
        "numbers.enqueue(\"IX\")\n",
        "numbers.enqueue(\"X\")\n",
        "numbers.enqueue(\"XI\")\n",
        "numbers.enqueue(\"XII\")\n",
        "\n",
        "circ = CircularQueue(numbers.size())\n",
        "\n",
        "while (numbers.size() != 0):\n",
        "  circ.enqueue(numbers.dequeue())\n",
        "\n",
        "circ.printCQueue()\n"
      ]
    },
    {
      "cell_type": "markdown",
      "metadata": {
        "id": "S_hegiH9H32B"
      },
      "source": [
        "#### 4. Create a Priority Queue\n",
        "\n",
        "Given the queue below,\n",
        "\n",
        "**Queue:**\n",
        "\n",
        "| Cat | Dog | Rabbit | Bird | Hamster\n",
        "| --- | --- | --- | --- | --- |\n",
        "\n",
        "\n",
        "**dequeue** each element and insert them into a **Priority Queue** with the following priority values\n",
        "\n",
        "**Priority Queue:**\n",
        "\n",
        "| Element | Priority |\n",
        "| --- | --- |\n",
        "| Hamster |  0 |\n",
        "| Bird |  1 |\n",
        "| Rabbit |  2 |\n",
        "| Dog |  3 |\n",
        "| Cat |  4 |\n",
        "\n",
        "**Expected output:**\n",
        "\n",
        "Hamster Bird Rabbit Dog Cat"
      ]
    },
    {
      "cell_type": "code",
      "execution_count": 79,
      "metadata": {
        "id": "shAslZZjH32C",
        "colab": {
          "base_uri": "https://localhost:8080/"
        },
        "outputId": "77a82281-daf1-487c-e4ff-ee4c7ba751cb"
      },
      "outputs": [
        {
          "output_type": "stream",
          "name": "stdout",
          "text": [
            "Cat 4\n",
            "Dog 3\n",
            "Rabbit 2\n",
            "Bird 1\n",
            "Hamster 0\n",
            "Hamster Bird Rabbit Dog Cat "
          ]
        }
      ],
      "source": [
        "list1 = Queue()\n",
        "\n",
        "list1.enqueue(\"Cat\")\n",
        "list1.enqueue(\"Dog\")\n",
        "list1.enqueue(\"Rabbit\")\n",
        "list1.enqueue(\"Bird\")\n",
        "list1.enqueue(\"Hamster\")\n",
        "\n",
        "prio = PriorityQueue()\n",
        "\n",
        "for x in range (4, -1, -1):\n",
        "\n",
        "  var = list1.dequeue()\n",
        "  prio.push(var, x)\n",
        "\n",
        "  print(var, x)\n",
        "\n",
        "prio.traverse()"
      ]
    },
    {
      "cell_type": "markdown",
      "metadata": {
        "id": "BUCV9mH5H32C"
      },
      "source": [
        "#### 5. Create a Sorted Circular Queue\n",
        "\n",
        "Given the queue below,\n",
        "\n",
        "**Queue:**\n",
        "\n",
        "| 1 | 5 | 3 | 2 | 7 | 8 | 10 | 11 | 6 | 4 | 12 | 9\n",
        "| --- | --- | --- | --- | --- | --- | --- | --- | --- | --- | --- | --- |\n",
        "\n",
        "\n",
        "**dequeue** each element and insert them into a **Circular Queue** in the following order below:\n",
        "\n",
        "**Circular Queue:**\n",
        "\n",
        "<img src=\"https://github.com/robitussin/CCDATRCL_EXERCISES/blob/main/clock1.png?raw=1\"/>\n",
        "\n",
        "**Expected output:**\n",
        "\n",
        "1 2 3 4 5 6 7 8 9 10 11 12"
      ]
    },
    {
      "cell_type": "code",
      "execution_count": 81,
      "metadata": {
        "id": "rUuLGwQ7H32C",
        "colab": {
          "base_uri": "https://localhost:8080/"
        },
        "outputId": "ea4429f5-d5bb-4b9d-d04c-f3ed73ba481d"
      },
      "outputs": [
        {
          "output_type": "stream",
          "name": "stdout",
          "text": [
            "1 2 3 4 5 6 7 8 9 10 11 12 \n"
          ]
        }
      ],
      "source": [
        "circle = Queue()\n",
        "\n",
        "circle.enqueue(1)\n",
        "circle.enqueue(5)\n",
        "circle.enqueue(3)\n",
        "circle.enqueue(2)\n",
        "circle.enqueue(7)\n",
        "circle.enqueue(8)\n",
        "circle.enqueue(10)\n",
        "circle.enqueue(11)\n",
        "circle.enqueue(6)\n",
        "circle.enqueue(4)\n",
        "circle.enqueue(12)\n",
        "circle.enqueue(9)\n",
        "\n",
        "sorted_circular = CircularQueue(circle.size())\n",
        "\n",
        "for x in range(circle.size()):\n",
        "  sorted_circular.enqueue(circle.dequeue())\n",
        "\n",
        "def sort(self):\n",
        "\n",
        "        temp = [None] * self.k\n",
        "        sorted_rear = -1\n",
        "\n",
        "        while self.head != -1:\n",
        "            item = self.dequeue()\n",
        "\n",
        "            while sorted_rear >= 0 and temp[sorted_rear] > item:\n",
        "                self.enqueue(temp[sorted_rear])\n",
        "                sorted_rear -= 1\n",
        "\n",
        "            sorted_rear += 1\n",
        "            temp[sorted_rear] = item\n",
        "\n",
        "        for i in range(sorted_rear + 1):\n",
        "            self.enqueue(temp[i])\n",
        "\n",
        "sort(sorted_circular)\n",
        "\n",
        "sorted_circular.printCQueue()\n"
      ]
    }
  ],
  "metadata": {
    "colab": {
      "provenance": []
    },
    "kernelspec": {
      "display_name": "Python 3",
      "language": "python",
      "name": "python3"
    },
    "language_info": {
      "codemirror_mode": {
        "name": "ipython",
        "version": 3
      },
      "file_extension": ".py",
      "mimetype": "text/x-python",
      "name": "python",
      "nbconvert_exporter": "python",
      "pygments_lexer": "ipython3",
      "version": "3.11.4"
    },
    "orig_nbformat": 4
  },
  "nbformat": 4,
  "nbformat_minor": 0
}
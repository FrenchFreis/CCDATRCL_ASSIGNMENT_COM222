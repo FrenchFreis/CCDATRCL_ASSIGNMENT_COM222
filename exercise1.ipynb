{
  "cells": [
    {
      "cell_type": "markdown",
      "metadata": {
        "id": "h2vFiYhGzZOg"
      },
      "source": [
        "# Exercise 1"
      ]
    },
    {
      "cell_type": "markdown",
      "source": [
        "## Class Initialization"
      ],
      "metadata": {
        "id": "sRm6kPQozcaU"
      }
    },
    {
      "cell_type": "code",
      "execution_count": 2,
      "metadata": {
        "id": "b1u4Dt9mzZOi"
      },
      "outputs": [],
      "source": [
        "class Node:\n",
        "    def __init__(self, data):\n",
        "        self.data = data\n",
        "        self.next = None\n",
        "        self.prev = None"
      ]
    },
    {
      "cell_type": "code",
      "execution_count": 3,
      "metadata": {
        "id": "tigvHSaHzZOj"
      },
      "outputs": [],
      "source": [
        "class LinkedList:\n",
        "\n",
        "    def __init__(self):\n",
        "        self.head = None\n",
        "\n",
        "    def traverse(self, node):\n",
        "        while node:\n",
        "            print(node.data, end=\" -> \")\n",
        "            node = node.next"
      ]
    },
    {
      "cell_type": "code",
      "execution_count": 22,
      "metadata": {
        "id": "LIkQBioVzZOk"
      },
      "outputs": [],
      "source": [
        "class DoublyLinkedList:\n",
        "\n",
        "    def __init__(self):\n",
        "        self.head = None\n",
        "\n",
        "    def traverse(self, node):\n",
        "        while node:\n",
        "            print(node.data, end=\" -> \")\n",
        "            node = node.next"
      ]
    },
    {
      "cell_type": "code",
      "execution_count": 23,
      "metadata": {
        "id": "zlxNT5EozZOl"
      },
      "outputs": [],
      "source": [
        "class CircularLinkedList:\n",
        "\n",
        "    def __init__(self):\n",
        "        self.head = None\n",
        "\n",
        "    def traverse(self, node):\n",
        "\n",
        "        head = node\n",
        "\n",
        "        while node:\n",
        "            print(node.data, end=\" -> \")\n",
        "            node = node.next\n",
        "\n",
        "            # Break to prevent infinite loop\n",
        "            if node == head:\n",
        "                break"
      ]
    },
    {
      "cell_type": "markdown",
      "metadata": {
        "id": "O68-Q1-bzZOl"
      },
      "source": [
        "#### 1. Create a Singly Linked list\n",
        "\n",
        "- Each node should contain your name and your seatmates in your row\n",
        "- Create at least 5 nodes\n",
        "- Traverse all nodes"
      ]
    },
    {
      "cell_type": "code",
      "execution_count": 15,
      "metadata": {
        "id": "pTcx_OuPzZOl",
        "colab": {
          "base_uri": "https://localhost:8080/"
        },
        "outputId": "fc7fa646-e0f4-48ec-bc1a-44c8c168c464"
      },
      "outputs": [
        {
          "output_type": "stream",
          "name": "stdout",
          "text": [
            "Renz -> Rodney -> Christian -> Mark -> Danyssa -> Ella -> "
          ]
        }
      ],
      "source": [
        "seatmates = LinkedList()\n",
        "\n",
        "seatmates.head = Node(\"Renz\")\n",
        "node_b = Node(\"Rodney\")\n",
        "node_c = Node(\"Christian\")\n",
        "node_d = Node(\"Mark\")\n",
        "node_e = Node(\"Danyssa\")\n",
        "node_f = Node(\"Ella\")\n",
        "\n",
        "seatmates.head.next = node_b\n",
        "node_b.next = node_c\n",
        "node_c.next = node_d\n",
        "node_d.next = node_e\n",
        "node_e.next = node_f\n",
        "\n",
        "seatmates.traverse(seatmates.head)"
      ]
    },
    {
      "cell_type": "markdown",
      "metadata": {
        "id": "IFgwbdw_zZOm"
      },
      "source": [
        "#### 2. Create a Doubly Linked list\n",
        "\n",
        "- Each node should contain your name and your seatmates in your row\n",
        "- Create at least 5 nodes\n",
        "- Traverse all nodes"
      ]
    },
    {
      "cell_type": "code",
      "execution_count": 30,
      "metadata": {
        "id": "8kQD2A_QzZOm",
        "colab": {
          "base_uri": "https://localhost:8080/"
        },
        "outputId": "33e8489c-4ef3-46ff-b389-43590d87e916"
      },
      "outputs": [
        {
          "output_type": "stream",
          "name": "stdout",
          "text": [
            "Renz -> Rodney -> Christian -> Mark -> Danyssa -> Ella -> "
          ]
        }
      ],
      "source": [
        "seatmates_doubly = DoublyLinkedList()\n",
        "\n",
        "seatmates_doubly.head = Node(\"Renz\")\n",
        "node_b = Node(\"Rodney\")\n",
        "node_c = Node(\"Christian\")\n",
        "node_d = Node(\"Mark\")\n",
        "node_e = Node(\"Danyssa\")\n",
        "node_f = Node(\"Ella\")\n",
        "\n",
        "seatmates_doubly.head.prev = None\n",
        "seatmates_doubly.head.next = node_b\n",
        "\n",
        "node_b.prev = seatmates_doubly.head\n",
        "node_b.next = node_c\n",
        "\n",
        "node_c.prev = node_b\n",
        "node_c.next = node_d\n",
        "\n",
        "node_d.prev = node_c\n",
        "node_d.next = node_e\n",
        "\n",
        "node_e.prev = node_d\n",
        "node_e.next = node_f\n",
        "\n",
        "node_f.prev = node_e\n",
        "node_f.next = None\n",
        "\n",
        "seatmates_doubly.traverse(seatmates_doubly.head)"
      ]
    },
    {
      "cell_type": "markdown",
      "metadata": {
        "id": "rtApbsCjzZOm"
      },
      "source": [
        "#### 3. Create a Circular Linked list\n",
        "\n",
        "- Each node should contain your name and your seatmates in your row\n",
        "- Create at least 5 nodes\n",
        "- Traverse all nodes"
      ]
    },
    {
      "cell_type": "code",
      "execution_count": 34,
      "metadata": {
        "id": "Gp1Oiq0jzZOn",
        "colab": {
          "base_uri": "https://localhost:8080/"
        },
        "outputId": "301f32b1-8794-4f4b-eed6-9cd28d32744c"
      },
      "outputs": [
        {
          "output_type": "stream",
          "name": "stdout",
          "text": [
            "Renz -> Rodney -> Christian -> Mark -> Danyssa -> Ella -> "
          ]
        }
      ],
      "source": [
        "seatmates_circular = CircularLinkedList()\n",
        "\n",
        "seatmates_circular.head = Node(\"Renz\")\n",
        "node_b = Node(\"Rodney\")\n",
        "node_c = Node(\"Christian\")\n",
        "node_d = Node(\"Mark\")\n",
        "node_e = Node(\"Danyssa\")\n",
        "node_f = Node(\"Ella\")\n",
        "\n",
        "seatmates_circular.head.next = node_b\n",
        "node_b.next = node_c\n",
        "node_c.next = node_d\n",
        "node_d.next = node_e\n",
        "node_e.next = node_f\n",
        "node_f.next = seatmates_circular.head\n",
        "\n",
        "seatmates_circular.traverse(seatmates_circular.head)"
      ]
    }
  ],
  "metadata": {
    "kernelspec": {
      "display_name": "Python 3",
      "language": "python",
      "name": "python3"
    },
    "language_info": {
      "name": "python",
      "version": "3.11.4"
    },
    "orig_nbformat": 4,
    "colab": {
      "provenance": []
    }
  },
  "nbformat": 4,
  "nbformat_minor": 0
}